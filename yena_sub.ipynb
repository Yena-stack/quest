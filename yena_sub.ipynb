{
 "cells": [
  {
   "cell_type": "code",
   "execution_count": 1,
   "id": "6ba18dae",
   "metadata": {},
   "outputs": [],
   "source": [
    "import pandas as pd\n",
    "import numpy as np\n",
    "import matplotlib.pyplot as plt\n",
    "import seaborn as sns\n",
    "import warnings \n",
    "warnings.filterwarnings('ignore')\n",
    "%matplotlib inline\n",
    "import gc"
   ]
  },
  {
   "cell_type": "code",
   "execution_count": 4,
   "id": "c052fa0f",
   "metadata": {},
   "outputs": [],
   "source": [
    "train = pd.read_csv('~/aiffel/kaggle_kakr_housing/data/train.csv')\n",
    "test  = pd.read_csv('~/aiffel/kaggle_kakr_housing/data/test.csv')"
   ]
  },
  {
   "cell_type": "code",
   "execution_count": 5,
   "id": "286e9274",
   "metadata": {},
   "outputs": [
    {
     "name": "stdout",
     "output_type": "stream",
     "text": [
      "train.csv. Shape:  (15035, 21)\n",
      "test.csv. Shape:  (6468, 20)\n"
     ]
    }
   ],
   "source": [
    "print(\"train.csv. Shape: \",train.shape)\n",
    "print(\"test.csv. Shape: \",test.shape)"
   ]
  },
  {
   "cell_type": "code",
   "execution_count": 6,
   "id": "0616cf83",
   "metadata": {},
   "outputs": [],
   "source": [
    "train_data = train\n",
    "test_data = test\n",
    "sub_id = test['id']"
   ]
  },
  {
   "cell_type": "code",
   "execution_count": 7,
   "id": "4735a9ae",
   "metadata": {},
   "outputs": [],
   "source": [
    "for i in [train_data,test_data]:\n",
    "    i['date'] = i['date'].apply(lambda e: e.split('T')[0])\n",
    "    i['yr_renovated'] = i['yr_renovated'].apply(lambda x: np.nan if x == 0 else x)\n",
    "    i['renovated'] = i['yr_renovated'].apply(lambda x: np.nan if x == 0 else x)\n",
    "    i['yr_renovated'] = i['yr_renovated'].fillna(i['yr_built'])\n",
    "    i['renovated'] = i['renovated'].fillna(0)\n",
    "    i['yr_renovated'] = i['yr_renovated'].astype('int')\n",
    "\n",
    "train.loc[train.renovated > 0,'renovated']= 1.0\n",
    "test.loc[test.renovated > 0,'renovated']= 1.0"
   ]
  },
  {
   "cell_type": "code",
   "execution_count": 8,
   "id": "1a560d14",
   "metadata": {},
   "outputs": [],
   "source": [
    "change_columns = ['bedrooms', 'sqft_living', 'sqft_lot','sqft_above',\n",
    "       'sqft_basement','sqft_living15', 'sqft_lot15']\n",
    "\n",
    "for i in change_columns:\n",
    "    train_data[i] = np.log1p(train[i].values)\n",
    "    test_data[i] = np.log1p(test[i].values)"
   ]
  },
  {
   "cell_type": "code",
   "execution_count": 9,
   "id": "7eccb8af",
   "metadata": {},
   "outputs": [],
   "source": [
    "for df in [train_data,test_data]:\n",
    "    # 방의 전체 갯수 \n",
    "    df['total_rooms'] = df['bedrooms'] + df['bathrooms']\n",
    "    # 거실의 비율 \n",
    "    df['sqft_ratio'] = df['sqft_living'] / df['sqft_lot']\n",
    "    # 총 면적\n",
    "    df['sqft_total_size'] = df['sqft_above'] + df['sqft_basement']\n",
    "    # 면적 대비 거실의 비율 \n",
    "    df['sqft_ratio_1'] = df['sqft_living'] / df['sqft_total_size']\n",
    "    df['sqft_ratio15'] = df['sqft_living15'] / df['sqft_lot15']"
   ]
  },
  {
   "cell_type": "code",
   "execution_count": 10,
   "id": "63cbf153",
   "metadata": {},
   "outputs": [],
   "source": [
    "train_data = train_data.drop(['id'], axis=1)\n",
    "test_data = test_data.drop(['id'], axis=1)"
   ]
  },
  {
   "cell_type": "code",
   "execution_count": 11,
   "id": "b67ea272",
   "metadata": {},
   "outputs": [],
   "source": [
    "train_data['date'] = pd.to_datetime(train_data['date'].astype('str'))\n",
    "test_data['date'] = pd.to_datetime(test_data['date'].astype('str'))\n",
    "for i in [train_data, test_data]:\n",
    "    i['year'] = i['date'].dt.year\n",
    "    i['month'] = i['date'].dt.month\n",
    "    \n",
    "train_data = train_data.drop('date', axis=1)\n",
    "test_data = test_data.drop('date', axis=1)"
   ]
  },
  {
   "cell_type": "code",
   "execution_count": 12,
   "id": "98b20a3c",
   "metadata": {},
   "outputs": [],
   "source": [
    "x = train_data.loc[:,:]\n",
    "y = train_data.loc[:,'price']\n",
    "x_test = test_data.loc[:,:]\n",
    "x = x.drop(['price'], axis=1)\n",
    "log_y = np.log1p(y)"
   ]
  },
  {
   "cell_type": "code",
   "execution_count": 13,
   "id": "c6ae41f2",
   "metadata": {},
   "outputs": [],
   "source": [
    "from sklearn.linear_model import ElasticNet, Lasso,  BayesianRidge, LassoLarsIC\n",
    "from sklearn.ensemble import RandomForestRegressor,  GradientBoostingRegressor\n",
    "from sklearn.kernel_ridge import KernelRidge\n",
    "from sklearn.pipeline import make_pipeline\n",
    "from sklearn.preprocessing import RobustScaler\n",
    "from sklearn.base import BaseEstimator, TransformerMixin, RegressorMixin, clone\n",
    "from sklearn.model_selection import KFold, cross_val_score, train_test_split\n",
    "from sklearn.metrics import mean_squared_error\n",
    "import xgboost as xgb\n",
    "import lightgbm as lgb"
   ]
  },
  {
   "cell_type": "code",
   "execution_count": 14,
   "id": "7e4caaa9",
   "metadata": {},
   "outputs": [],
   "source": [
    "n_folds = 5\n",
    "\n",
    "def rmsle_cv(model):\n",
    "    kf = KFold(n_folds, shuffle=True, random_state=42).get_n_splits(x.values)\n",
    "    rmse= np.sqrt(-cross_val_score(model, x.values, y, scoring=\"neg_mean_squared_error\", cv = kf))\n",
    "    return(rmse)"
   ]
  },
  {
   "cell_type": "code",
   "execution_count": 15,
   "id": "0a84c720",
   "metadata": {},
   "outputs": [],
   "source": [
    "model_xgb = xgb.XGBRegressor(colsample_bytree=0.4, gamma=0.0468, \n",
    "                             learning_rate=0.05, max_depth=6, \n",
    "                             min_child_weight=1.7817, n_estimators=15000,\n",
    "                             reg_alpha=0.4640, reg_lambda=0.8571,\n",
    "                             subsample=0.8, silent=1,\n",
    "                             random_state =25, nthread = -1)\n",
    "model_lgb = lgb.LGBMRegressor(objective='regression',num_leave=2,\n",
    "                              learning_rate=0.05, n_estimators=15000,\n",
    "                              max_bin = 80, bagging_fraction = 0.8,\n",
    "                              bagging_freq = 5, feature_fraction = 0.2319,\n",
    "                              feature_fraction_seed=9, bagging_seed=9,\n",
    "                              min_data_in_leaf =6, min_sum_hessian_in_leaf = 11)\n",
    "model_gb = GradientBoostingRegressor(n_estimators=15000, learning_rate=0.05,\n",
    "                                   max_depth=4, max_features='sqrt',\n",
    "                                   min_samples_leaf=15, min_samples_split=10, \n",
    "                                   loss='huber', random_state =25)\n"
   ]
  },
  {
   "cell_type": "code",
   "execution_count": 16,
   "id": "25584456",
   "metadata": {},
   "outputs": [],
   "source": [
    "def rmsle(y, y_pred):\n",
    "    return np.sqrt(mean_squared_error(y, y_pred))\n",
    "def rmse_expm1(y, y_pred):\n",
    "    return np.sqrt(mean_squared_error(np.expm1(y), np.expm1(y_pred)))"
   ]
  },
  {
   "cell_type": "code",
   "execution_count": 22,
   "id": "2b94a50f",
   "metadata": {},
   "outputs": [
    {
     "name": "stdout",
     "output_type": "stream",
     "text": [
      "[LightGBM] [Warning] Unknown parameter: num_leave\n",
      "[LightGBM] [Warning] feature_fraction is set=0.2319, colsample_bytree=1.0 will be ignored. Current value: feature_fraction=0.2319\n",
      "[LightGBM] [Warning] min_sum_hessian_in_leaf is set=11, min_child_weight=0.001 will be ignored. Current value: min_sum_hessian_in_leaf=11\n",
      "[LightGBM] [Warning] min_data_in_leaf is set=6, min_child_samples=20 will be ignored. Current value: min_data_in_leaf=6\n",
      "[LightGBM] [Warning] bagging_freq is set=5, subsample_freq=0 will be ignored. Current value: bagging_freq=5\n",
      "[LightGBM] [Warning] bagging_fraction is set=0.8, subsample=1.0 will be ignored. Current value: bagging_fraction=0.8\n",
      "2400.547852535254\n"
     ]
    }
   ],
   "source": [
    "model_lgb.fit(x, log_y)\n",
    "lgb_train_pred = model_lgb.predict(x)\n",
    "lgb_pred = model_lgb.predict(x_test)\n",
    "lgb_pred = np.expm1(lgb_pred)\n",
    "print(rmse_expm1(log_y, lgb_train_pred))"
   ]
  },
  {
   "cell_type": "code",
   "execution_count": 23,
   "id": "4adf07ec",
   "metadata": {},
   "outputs": [
    {
     "name": "stdout",
     "output_type": "stream",
     "text": [
      "51221.77642837977\n"
     ]
    }
   ],
   "source": [
    "import xgboost as xgb\n",
    "\n",
    "xgb.set_config(verbosity=0)\n",
    "model_xgb.fit(x, log_y)\n",
    "xgb_train_pred = model_xgb.predict(x)\n",
    "xgb_pred = model_xgb.predict(x_test)\n",
    "xgb_pred = np.expm1(xgb_pred)\n",
    "print(rmse_expm1(log_y, xgb_train_pred))"
   ]
  },
  {
   "cell_type": "code",
   "execution_count": 25,
   "id": "5d54bea5",
   "metadata": {},
   "outputs": [
    {
     "name": "stdout",
     "output_type": "stream",
     "text": [
      "RMSE score on train data:\n",
      "26686.662645832224\n"
     ]
    }
   ],
   "source": [
    "print('RMSE score on train data:')\n",
    "print(rmse_expm1(log_y,xgb_train_pred*0.5 + lgb_train_pred*0.5))"
   ]
  },
  {
   "cell_type": "code",
   "execution_count": 27,
   "id": "37d9e360",
   "metadata": {},
   "outputs": [],
   "source": [
    "ensemble = xgb_pred*0.5 + lgb_pred*0.5"
   ]
  },
  {
   "cell_type": "code",
   "execution_count": 33,
   "id": "62d469e9",
   "metadata": {},
   "outputs": [],
   "source": [
    "sub1 = pd.DataFrame(data={'id':sub_id,'price':ensemble})\n",
    "sub1.to_csv('yena_submission.csv', index=False)"
   ]
  }
 ],
 "metadata": {
  "kernelspec": {
   "display_name": "Python 3 (ipykernel)",
   "language": "python",
   "name": "python3"
  },
  "language_info": {
   "codemirror_mode": {
    "name": "ipython",
    "version": 3
   },
   "file_extension": ".py",
   "mimetype": "text/x-python",
   "name": "python",
   "nbconvert_exporter": "python",
   "pygments_lexer": "ipython3",
   "version": "3.9.7"
  }
 },
 "nbformat": 4,
 "nbformat_minor": 5
}
